{
  "nbformat": 4,
  "nbformat_minor": 0,
  "metadata": {
    "colab": {
      "provenance": [],
      "authorship_tag": "ABX9TyN36NWTmijr4Xgdkb6ZtRyf",
      "include_colab_link": true
    },
    "kernelspec": {
      "name": "python3",
      "display_name": "Python 3"
    },
    "language_info": {
      "name": "python"
    }
  },
  "cells": [
    {
      "cell_type": "markdown",
      "metadata": {
        "id": "view-in-github",
        "colab_type": "text"
      },
      "source": [
        "<a href=\"https://colab.research.google.com/github/Mel-iza/Optuna_hyperparameter_search/blob/main/Testing_hyperparameter_search_Optuna.ipynb\" target=\"_parent\"><img src=\"https://colab.research.google.com/assets/colab-badge.svg\" alt=\"Open In Colab\"/></a>"
      ]
    },
    {
      "cell_type": "markdown",
      "source": [
        "This tutorial was based on [Hypertune Machine Learning Models with OPTUNA](https://www.youtube.com/watch?v=TgdEZ6LFj-I)\n",
        "\n",
        "---\n",
        "\n",
        "What are the necessary steps? <br>\n",
        "1. Install optuna;\n",
        "2. Build a surrogate probability model of the objective function;\n",
        "3. Find the hyperparameters that perform best on the surrogate;\n",
        "4. Apply these hyperparameters to the true objective function;\n",
        "5. Update the surrogate model incorporating the new results;\n",
        "6. Repeat steps 2-4 until max iterations or time is reached."
      ],
      "metadata": {
        "id": "yhDtySvRaZBo"
      }
    },
    {
      "cell_type": "code",
      "execution_count": 2,
      "metadata": {
        "colab": {
          "base_uri": "https://localhost:8080/"
        },
        "id": "CgIxMhbxYREG",
        "outputId": "b73a7aef-c935-455c-9823-04c861e4cf7c"
      },
      "outputs": [
        {
          "output_type": "stream",
          "name": "stdout",
          "text": [
            "Requirement already satisfied: optuna in /usr/local/lib/python3.10/dist-packages (3.4.0)\n",
            "Requirement already satisfied: alembic>=1.5.0 in /usr/local/lib/python3.10/dist-packages (from optuna) (1.12.1)\n",
            "Requirement already satisfied: colorlog in /usr/local/lib/python3.10/dist-packages (from optuna) (6.7.0)\n",
            "Requirement already satisfied: numpy in /usr/local/lib/python3.10/dist-packages (from optuna) (1.23.5)\n",
            "Requirement already satisfied: packaging>=20.0 in /usr/local/lib/python3.10/dist-packages (from optuna) (23.2)\n",
            "Requirement already satisfied: sqlalchemy>=1.3.0 in /usr/local/lib/python3.10/dist-packages (from optuna) (2.0.23)\n",
            "Requirement already satisfied: tqdm in /usr/local/lib/python3.10/dist-packages (from optuna) (4.66.1)\n",
            "Requirement already satisfied: PyYAML in /usr/local/lib/python3.10/dist-packages (from optuna) (6.0.1)\n",
            "Requirement already satisfied: Mako in /usr/local/lib/python3.10/dist-packages (from alembic>=1.5.0->optuna) (1.3.0)\n",
            "Requirement already satisfied: typing-extensions>=4 in /usr/local/lib/python3.10/dist-packages (from alembic>=1.5.0->optuna) (4.5.0)\n",
            "Requirement already satisfied: greenlet!=0.4.17 in /usr/local/lib/python3.10/dist-packages (from sqlalchemy>=1.3.0->optuna) (3.0.1)\n",
            "Requirement already satisfied: MarkupSafe>=0.9.2 in /usr/local/lib/python3.10/dist-packages (from Mako->alembic>=1.5.0->optuna) (2.1.3)\n",
            "Requirement already satisfied: scikit-learn in /usr/local/lib/python3.10/dist-packages (1.2.2)\n",
            "Requirement already satisfied: numpy>=1.17.3 in /usr/local/lib/python3.10/dist-packages (from scikit-learn) (1.23.5)\n",
            "Requirement already satisfied: scipy>=1.3.2 in /usr/local/lib/python3.10/dist-packages (from scikit-learn) (1.11.3)\n",
            "Requirement already satisfied: joblib>=1.1.1 in /usr/local/lib/python3.10/dist-packages (from scikit-learn) (1.3.2)\n",
            "Requirement already satisfied: threadpoolctl>=2.0.0 in /usr/local/lib/python3.10/dist-packages (from scikit-learn) (3.2.0)\n"
          ]
        }
      ],
      "source": [
        "!pip install optuna\n",
        "!pip install scikit-learn"
      ]
    },
    {
      "cell_type": "code",
      "source": [
        "import optuna\n",
        "import sklearn.datasets\n",
        "from sklearn.ensemble import RandomForestClassifier\n",
        "from sklearn.model_selection import cross_val_score\n",
        "\n",
        "def objective(trial):\n",
        "  iris = sklearn.datasets.load_iris()\n",
        "  x, y = iris.data, iris.target\n",
        "\n",
        "  criterion = trial.suggest_categorical(\"criterion\", [\"gini\", \"entropy\"])\n",
        "  max_depth = trial.suggest_int(\"max_depth\", 2, 32, log=True)\n",
        "  n_estimators = trial.suggest_int(\"n_estimators\", 100, 500)\n",
        "\n",
        "  random_forest = sklearn.ensemble.RandomForestClassifier(criterion=criterion,\n",
        "                                                          max_depth=max_depth,\n",
        "                                                          n_estimators=n_estimators)\n",
        "\n",
        "  score = cross_val_score(random_forest, x, y, n_jobs=-1, cv=3)\n",
        "  accuracy = score.mean()\n",
        "  return accuracy\n",
        "\n",
        "study = optuna.create_study(direction=\"maximize\")\n",
        "study.optimize(objective, n_trials=100)\n"
      ],
      "metadata": {
        "colab": {
          "base_uri": "https://localhost:8080/"
        },
        "id": "zuMpaS10aVR5",
        "outputId": "3fb98979-36a0-4eb6-e235-7682c27399e4"
      },
      "execution_count": 5,
      "outputs": [
        {
          "output_type": "stream",
          "name": "stderr",
          "text": [
            "[I 2023-11-08 19:46:10,247] A new study created in memory with name: no-name-4f23f742-841a-48d2-837d-5d28bb84f7ea\n",
            "[I 2023-11-08 19:46:14,668] Trial 0 finished with value: 0.96 and parameters: {'criterion': 'entropy', 'max_depth': 5, 'n_estimators': 333}. Best is trial 0 with value: 0.96.\n",
            "[I 2023-11-08 19:46:15,916] Trial 1 finished with value: 0.9666666666666667 and parameters: {'criterion': 'entropy', 'max_depth': 17, 'n_estimators': 296}. Best is trial 1 with value: 0.9666666666666667.\n",
            "[I 2023-11-08 19:46:17,227] Trial 2 finished with value: 0.9533333333333333 and parameters: {'criterion': 'entropy', 'max_depth': 2, 'n_estimators': 324}. Best is trial 1 with value: 0.9666666666666667.\n",
            "[I 2023-11-08 19:46:18,343] Trial 3 finished with value: 0.96 and parameters: {'criterion': 'gini', 'max_depth': 5, 'n_estimators': 277}. Best is trial 1 with value: 0.9666666666666667.\n",
            "[I 2023-11-08 19:46:18,830] Trial 4 finished with value: 0.96 and parameters: {'criterion': 'entropy', 'max_depth': 3, 'n_estimators': 118}. Best is trial 1 with value: 0.9666666666666667.\n",
            "[I 2023-11-08 19:46:20,281] Trial 5 finished with value: 0.9666666666666667 and parameters: {'criterion': 'entropy', 'max_depth': 4, 'n_estimators': 357}. Best is trial 1 with value: 0.9666666666666667.\n",
            "[I 2023-11-08 19:46:21,820] Trial 6 finished with value: 0.9666666666666667 and parameters: {'criterion': 'entropy', 'max_depth': 22, 'n_estimators': 378}. Best is trial 1 with value: 0.9666666666666667.\n",
            "[I 2023-11-08 19:46:23,251] Trial 7 finished with value: 0.9666666666666667 and parameters: {'criterion': 'gini', 'max_depth': 12, 'n_estimators': 346}. Best is trial 1 with value: 0.9666666666666667.\n",
            "[I 2023-11-08 19:46:24,286] Trial 8 finished with value: 0.9666666666666667 and parameters: {'criterion': 'entropy', 'max_depth': 12, 'n_estimators': 234}. Best is trial 1 with value: 0.9666666666666667.\n",
            "[I 2023-11-08 19:46:24,974] Trial 9 finished with value: 0.96 and parameters: {'criterion': 'entropy', 'max_depth': 32, 'n_estimators': 107}. Best is trial 1 with value: 0.9666666666666667.\n",
            "[I 2023-11-08 19:46:28,553] Trial 10 finished with value: 0.9666666666666667 and parameters: {'criterion': 'gini', 'max_depth': 10, 'n_estimators': 497}. Best is trial 1 with value: 0.9666666666666667.\n",
            "[I 2023-11-08 19:46:30,418] Trial 11 finished with value: 0.9666666666666667 and parameters: {'criterion': 'entropy', 'max_depth': 6, 'n_estimators': 433}. Best is trial 1 with value: 0.9666666666666667.\n",
            "[I 2023-11-08 19:46:31,391] Trial 12 finished with value: 0.96 and parameters: {'criterion': 'entropy', 'max_depth': 3, 'n_estimators': 234}. Best is trial 1 with value: 0.9666666666666667.\n",
            "[I 2023-11-08 19:46:33,160] Trial 13 finished with value: 0.9666666666666667 and parameters: {'criterion': 'entropy', 'max_depth': 8, 'n_estimators': 432}. Best is trial 1 with value: 0.9666666666666667.\n",
            "[I 2023-11-08 19:46:33,928] Trial 14 finished with value: 0.96 and parameters: {'criterion': 'gini', 'max_depth': 17, 'n_estimators': 188}. Best is trial 1 with value: 0.9666666666666667.\n",
            "[I 2023-11-08 19:46:35,047] Trial 15 finished with value: 0.9666666666666667 and parameters: {'criterion': 'entropy', 'max_depth': 17, 'n_estimators': 275}. Best is trial 1 with value: 0.9666666666666667.\n",
            "[I 2023-11-08 19:46:36,611] Trial 16 finished with value: 0.9666666666666667 and parameters: {'criterion': 'entropy', 'max_depth': 8, 'n_estimators': 396}. Best is trial 1 with value: 0.9666666666666667.\n",
            "[I 2023-11-08 19:46:37,392] Trial 17 finished with value: 0.96 and parameters: {'criterion': 'entropy', 'max_depth': 4, 'n_estimators': 178}. Best is trial 1 with value: 0.9666666666666667.\n",
            "[I 2023-11-08 19:46:40,620] Trial 18 finished with value: 0.94 and parameters: {'criterion': 'gini', 'max_depth': 2, 'n_estimators': 500}. Best is trial 1 with value: 0.9666666666666667.\n",
            "[I 2023-11-08 19:46:42,673] Trial 19 finished with value: 0.9666666666666667 and parameters: {'criterion': 'entropy', 'max_depth': 6, 'n_estimators': 377}. Best is trial 1 with value: 0.9666666666666667.\n",
            "[I 2023-11-08 19:46:43,924] Trial 20 finished with value: 0.9666666666666667 and parameters: {'criterion': 'entropy', 'max_depth': 9, 'n_estimators': 285}. Best is trial 1 with value: 0.9666666666666667.\n",
            "[I 2023-11-08 19:46:45,574] Trial 21 finished with value: 0.9666666666666667 and parameters: {'criterion': 'entropy', 'max_depth': 29, 'n_estimators': 372}. Best is trial 1 with value: 0.9666666666666667.\n",
            "[I 2023-11-08 19:46:47,364] Trial 22 finished with value: 0.96 and parameters: {'criterion': 'entropy', 'max_depth': 23, 'n_estimators': 427}. Best is trial 1 with value: 0.9666666666666667.\n",
            "[I 2023-11-08 19:46:48,929] Trial 23 finished with value: 0.9666666666666667 and parameters: {'criterion': 'entropy', 'max_depth': 18, 'n_estimators': 311}. Best is trial 1 with value: 0.9666666666666667.\n",
            "[I 2023-11-08 19:46:50,420] Trial 24 finished with value: 0.9666666666666667 and parameters: {'criterion': 'entropy', 'max_depth': 23, 'n_estimators': 360}. Best is trial 1 with value: 0.9666666666666667.\n",
            "[I 2023-11-08 19:46:52,364] Trial 25 finished with value: 0.9666666666666667 and parameters: {'criterion': 'entropy', 'max_depth': 15, 'n_estimators': 410}. Best is trial 1 with value: 0.9666666666666667.\n",
            "[I 2023-11-08 19:46:55,507] Trial 26 finished with value: 0.9666666666666667 and parameters: {'criterion': 'gini', 'max_depth': 23, 'n_estimators': 454}. Best is trial 1 with value: 0.9666666666666667.\n",
            "[I 2023-11-08 19:46:56,515] Trial 27 finished with value: 0.9666666666666667 and parameters: {'criterion': 'entropy', 'max_depth': 12, 'n_estimators': 243}. Best is trial 1 with value: 0.9666666666666667.\n",
            "[I 2023-11-08 19:46:57,761] Trial 28 finished with value: 0.9666666666666667 and parameters: {'criterion': 'entropy', 'max_depth': 28, 'n_estimators': 309}. Best is trial 1 with value: 0.9666666666666667.\n",
            "[I 2023-11-08 19:46:59,152] Trial 29 finished with value: 0.9666666666666667 and parameters: {'criterion': 'entropy', 'max_depth': 7, 'n_estimators': 342}. Best is trial 1 with value: 0.9666666666666667.\n",
            "[I 2023-11-08 19:47:00,495] Trial 30 finished with value: 0.96 and parameters: {'criterion': 'entropy', 'max_depth': 14, 'n_estimators': 334}. Best is trial 1 with value: 0.9666666666666667.\n",
            "[I 2023-11-08 19:47:01,927] Trial 31 finished with value: 0.9666666666666667 and parameters: {'criterion': 'gini', 'max_depth': 11, 'n_estimators': 353}. Best is trial 1 with value: 0.9666666666666667.\n",
            "[I 2023-11-08 19:47:03,527] Trial 32 finished with value: 0.9666666666666667 and parameters: {'criterion': 'gini', 'max_depth': 14, 'n_estimators': 396}. Best is trial 1 with value: 0.9666666666666667.\n",
            "[I 2023-11-08 19:47:04,610] Trial 33 finished with value: 0.9666666666666667 and parameters: {'criterion': 'gini', 'max_depth': 20, 'n_estimators': 263}. Best is trial 1 with value: 0.9666666666666667.\n",
            "[I 2023-11-08 19:47:06,512] Trial 34 finished with value: 0.9666666666666667 and parameters: {'criterion': 'gini', 'max_depth': 12, 'n_estimators': 322}. Best is trial 1 with value: 0.9666666666666667.\n",
            "[I 2023-11-08 19:47:09,146] Trial 35 finished with value: 0.96 and parameters: {'criterion': 'gini', 'max_depth': 10, 'n_estimators': 388}. Best is trial 1 with value: 0.9666666666666667.\n",
            "[I 2023-11-08 19:47:10,413] Trial 36 finished with value: 0.9666666666666667 and parameters: {'criterion': 'gini', 'max_depth': 20, 'n_estimators': 296}. Best is trial 1 with value: 0.9666666666666667.\n",
            "[I 2023-11-08 19:47:11,981] Trial 37 finished with value: 0.96 and parameters: {'criterion': 'entropy', 'max_depth': 15, 'n_estimators': 348}. Best is trial 1 with value: 0.9666666666666667.\n",
            "[I 2023-11-08 19:47:13,966] Trial 38 finished with value: 0.9666666666666667 and parameters: {'criterion': 'gini', 'max_depth': 13, 'n_estimators': 466}. Best is trial 1 with value: 0.9666666666666667.\n",
            "[I 2023-11-08 19:47:15,248] Trial 39 finished with value: 0.9666666666666667 and parameters: {'criterion': 'entropy', 'max_depth': 10, 'n_estimators': 320}. Best is trial 1 with value: 0.9666666666666667.\n",
            "[I 2023-11-08 19:47:16,320] Trial 40 finished with value: 0.9666666666666667 and parameters: {'criterion': 'entropy', 'max_depth': 4, 'n_estimators': 260}. Best is trial 1 with value: 0.9666666666666667.\n",
            "[I 2023-11-08 19:47:17,122] Trial 41 finished with value: 0.96 and parameters: {'criterion': 'entropy', 'max_depth': 11, 'n_estimators': 187}. Best is trial 1 with value: 0.9666666666666667.\n",
            "[I 2023-11-08 19:47:18,191] Trial 42 finished with value: 0.96 and parameters: {'criterion': 'entropy', 'max_depth': 15, 'n_estimators': 218}. Best is trial 1 with value: 0.9666666666666667.\n",
            "[I 2023-11-08 19:47:19,115] Trial 43 finished with value: 0.96 and parameters: {'criterion': 'entropy', 'max_depth': 17, 'n_estimators': 147}. Best is trial 1 with value: 0.9666666666666667.\n",
            "[I 2023-11-08 19:47:21,355] Trial 44 finished with value: 0.9666666666666667 and parameters: {'criterion': 'entropy', 'max_depth': 9, 'n_estimators': 296}. Best is trial 1 with value: 0.9666666666666667.\n",
            "[I 2023-11-08 19:47:22,768] Trial 45 finished with value: 0.9666666666666667 and parameters: {'criterion': 'entropy', 'max_depth': 12, 'n_estimators': 236}. Best is trial 1 with value: 0.9666666666666667.\n",
            "[I 2023-11-08 19:47:24,305] Trial 46 finished with value: 0.96 and parameters: {'criterion': 'entropy', 'max_depth': 19, 'n_estimators': 368}. Best is trial 1 with value: 0.9666666666666667.\n",
            "[I 2023-11-08 19:47:25,313] Trial 47 finished with value: 0.9666666666666667 and parameters: {'criterion': 'gini', 'max_depth': 16, 'n_estimators': 215}. Best is trial 1 with value: 0.9666666666666667.\n",
            "[I 2023-11-08 19:47:27,069] Trial 48 finished with value: 0.9666666666666667 and parameters: {'criterion': 'entropy', 'max_depth': 13, 'n_estimators': 408}. Best is trial 1 with value: 0.9666666666666667.\n",
            "[I 2023-11-08 19:47:28,200] Trial 49 finished with value: 0.9666666666666667 and parameters: {'criterion': 'entropy', 'max_depth': 7, 'n_estimators': 276}. Best is trial 1 with value: 0.9666666666666667.\n",
            "[I 2023-11-08 19:47:29,583] Trial 50 finished with value: 0.9666666666666667 and parameters: {'criterion': 'entropy', 'max_depth': 5, 'n_estimators': 335}. Best is trial 1 with value: 0.9666666666666667.\n",
            "[I 2023-11-08 19:47:31,545] Trial 51 finished with value: 0.9666666666666667 and parameters: {'criterion': 'gini', 'max_depth': 9, 'n_estimators': 495}. Best is trial 1 with value: 0.9666666666666667.\n",
            "[I 2023-11-08 19:47:34,167] Trial 52 finished with value: 0.9666666666666667 and parameters: {'criterion': 'gini', 'max_depth': 8, 'n_estimators': 458}. Best is trial 1 with value: 0.9666666666666667.\n",
            "[I 2023-11-08 19:47:36,800] Trial 53 finished with value: 0.9666666666666667 and parameters: {'criterion': 'gini', 'max_depth': 17, 'n_estimators': 424}. Best is trial 1 with value: 0.9666666666666667.\n",
            "[I 2023-11-08 19:47:38,729] Trial 54 finished with value: 0.94 and parameters: {'criterion': 'gini', 'max_depth': 2, 'n_estimators': 475}. Best is trial 1 with value: 0.9666666666666667.\n",
            "[I 2023-11-08 19:47:39,408] Trial 55 finished with value: 0.9666666666666667 and parameters: {'criterion': 'gini', 'max_depth': 21, 'n_estimators': 161}. Best is trial 1 with value: 0.9666666666666667.\n",
            "[I 2023-11-08 19:47:40,947] Trial 56 finished with value: 0.9666666666666667 and parameters: {'criterion': 'entropy', 'max_depth': 16, 'n_estimators': 381}. Best is trial 1 with value: 0.9666666666666667.\n",
            "[I 2023-11-08 19:47:41,820] Trial 57 finished with value: 0.96 and parameters: {'criterion': 'entropy', 'max_depth': 18, 'n_estimators': 211}. Best is trial 1 with value: 0.9666666666666667.\n",
            "[I 2023-11-08 19:47:43,734] Trial 58 finished with value: 0.96 and parameters: {'criterion': 'gini', 'max_depth': 27, 'n_estimators': 443}. Best is trial 1 with value: 0.9666666666666667.\n",
            "[I 2023-11-08 19:47:45,211] Trial 59 finished with value: 0.9666666666666667 and parameters: {'criterion': 'entropy', 'max_depth': 32, 'n_estimators': 363}. Best is trial 1 with value: 0.9666666666666667.\n",
            "[I 2023-11-08 19:47:46,507] Trial 60 finished with value: 0.9666666666666667 and parameters: {'criterion': 'entropy', 'max_depth': 13, 'n_estimators': 259}. Best is trial 1 with value: 0.9666666666666667.\n",
            "[I 2023-11-08 19:47:49,872] Trial 61 finished with value: 0.96 and parameters: {'criterion': 'entropy', 'max_depth': 6, 'n_estimators': 485}. Best is trial 1 with value: 0.9666666666666667.\n",
            "[I 2023-11-08 19:47:51,565] Trial 62 finished with value: 0.9533333333333333 and parameters: {'criterion': 'entropy', 'max_depth': 3, 'n_estimators': 412}. Best is trial 1 with value: 0.9666666666666667.\n",
            "[I 2023-11-08 19:47:53,499] Trial 63 finished with value: 0.9666666666666667 and parameters: {'criterion': 'entropy', 'max_depth': 8, 'n_estimators': 436}. Best is trial 1 with value: 0.9666666666666667.\n",
            "[I 2023-11-08 19:47:55,158] Trial 64 finished with value: 0.9666666666666667 and parameters: {'criterion': 'entropy', 'max_depth': 4, 'n_estimators': 400}. Best is trial 1 with value: 0.9666666666666667.\n",
            "[I 2023-11-08 19:47:56,584] Trial 65 finished with value: 0.9666666666666667 and parameters: {'criterion': 'gini', 'max_depth': 11, 'n_estimators': 358}. Best is trial 1 with value: 0.9666666666666667.\n",
            "[I 2023-11-08 19:47:57,843] Trial 66 finished with value: 0.96 and parameters: {'criterion': 'entropy', 'max_depth': 22, 'n_estimators': 310}. Best is trial 1 with value: 0.9666666666666667.\n",
            "[I 2023-11-08 19:47:59,638] Trial 67 finished with value: 0.9666666666666667 and parameters: {'criterion': 'entropy', 'max_depth': 24, 'n_estimators': 381}. Best is trial 1 with value: 0.9666666666666667.\n",
            "[I 2023-11-08 19:48:02,274] Trial 68 finished with value: 0.96 and parameters: {'criterion': 'gini', 'max_depth': 10, 'n_estimators': 342}. Best is trial 1 with value: 0.9666666666666667.\n",
            "[I 2023-11-08 19:48:04,312] Trial 69 finished with value: 0.9666666666666667 and parameters: {'criterion': 'entropy', 'max_depth': 19, 'n_estimators': 418}. Best is trial 1 with value: 0.9666666666666667.\n",
            "[I 2023-11-08 19:48:05,614] Trial 70 finished with value: 0.9666666666666667 and parameters: {'criterion': 'entropy', 'max_depth': 14, 'n_estimators': 289}. Best is trial 1 with value: 0.9666666666666667.\n",
            "[I 2023-11-08 19:48:07,497] Trial 71 finished with value: 0.96 and parameters: {'criterion': 'entropy', 'max_depth': 9, 'n_estimators': 447}. Best is trial 1 with value: 0.9666666666666667.\n",
            "[I 2023-11-08 19:48:09,276] Trial 72 finished with value: 0.9666666666666667 and parameters: {'criterion': 'entropy', 'max_depth': 6, 'n_estimators': 435}. Best is trial 1 with value: 0.9666666666666667.\n",
            "[I 2023-11-08 19:48:10,883] Trial 73 finished with value: 0.9666666666666667 and parameters: {'criterion': 'entropy', 'max_depth': 7, 'n_estimators': 392}. Best is trial 1 with value: 0.9666666666666667.\n",
            "[I 2023-11-08 19:48:12,776] Trial 74 finished with value: 0.9666666666666667 and parameters: {'criterion': 'entropy', 'max_depth': 12, 'n_estimators': 472}. Best is trial 1 with value: 0.9666666666666667.\n",
            "[I 2023-11-08 19:48:14,976] Trial 75 finished with value: 0.9666666666666667 and parameters: {'criterion': 'entropy', 'max_depth': 8, 'n_estimators': 325}. Best is trial 1 with value: 0.9666666666666667.\n",
            "[I 2023-11-08 19:48:17,144] Trial 76 finished with value: 0.9666666666666667 and parameters: {'criterion': 'gini', 'max_depth': 11, 'n_estimators': 347}. Best is trial 1 with value: 0.9666666666666667.\n",
            "[I 2023-11-08 19:48:19,222] Trial 77 finished with value: 0.9666666666666667 and parameters: {'criterion': 'entropy', 'max_depth': 10, 'n_estimators': 500}. Best is trial 1 with value: 0.9666666666666667.\n",
            "[I 2023-11-08 19:48:21,007] Trial 78 finished with value: 0.9666666666666667 and parameters: {'criterion': 'entropy', 'max_depth': 9, 'n_estimators': 402}. Best is trial 1 with value: 0.9666666666666667.\n",
            "[I 2023-11-08 19:48:22,579] Trial 79 finished with value: 0.9666666666666667 and parameters: {'criterion': 'gini', 'max_depth': 15, 'n_estimators': 373}. Best is trial 1 with value: 0.9666666666666667.\n",
            "[I 2023-11-08 19:48:23,192] Trial 80 finished with value: 0.9666666666666667 and parameters: {'criterion': 'entropy', 'max_depth': 13, 'n_estimators': 128}. Best is trial 1 with value: 0.9666666666666667.\n",
            "[I 2023-11-08 19:48:24,388] Trial 81 finished with value: 0.9666666666666667 and parameters: {'criterion': 'entropy', 'max_depth': 18, 'n_estimators': 270}. Best is trial 1 with value: 0.9666666666666667.\n",
            "[I 2023-11-08 19:48:25,627] Trial 82 finished with value: 0.9666666666666667 and parameters: {'criterion': 'entropy', 'max_depth': 21, 'n_estimators': 304}. Best is trial 1 with value: 0.9666666666666667.\n",
            "[I 2023-11-08 19:48:27,075] Trial 83 finished with value: 0.9666666666666667 and parameters: {'criterion': 'entropy', 'max_depth': 16, 'n_estimators': 318}. Best is trial 1 with value: 0.9666666666666667.\n",
            "[I 2023-11-08 19:48:29,301] Trial 84 finished with value: 0.96 and parameters: {'criterion': 'entropy', 'max_depth': 23, 'n_estimators': 283}. Best is trial 1 with value: 0.9666666666666667.\n",
            "[I 2023-11-08 19:48:30,754] Trial 85 finished with value: 0.9666666666666667 and parameters: {'criterion': 'entropy', 'max_depth': 14, 'n_estimators': 241}. Best is trial 1 with value: 0.9666666666666667.\n",
            "[I 2023-11-08 19:48:32,125] Trial 86 finished with value: 0.96 and parameters: {'criterion': 'gini', 'max_depth': 17, 'n_estimators': 335}. Best is trial 1 with value: 0.9666666666666667.\n",
            "[I 2023-11-08 19:48:33,200] Trial 87 finished with value: 0.9666666666666667 and parameters: {'criterion': 'entropy', 'max_depth': 20, 'n_estimators': 248}. Best is trial 1 with value: 0.9666666666666667.\n",
            "[I 2023-11-08 19:48:34,260] Trial 88 finished with value: 0.96 and parameters: {'criterion': 'entropy', 'max_depth': 25, 'n_estimators': 225}. Best is trial 1 with value: 0.9666666666666667.\n",
            "[I 2023-11-08 19:48:36,268] Trial 89 finished with value: 0.9666666666666667 and parameters: {'criterion': 'gini', 'max_depth': 27, 'n_estimators': 488}. Best is trial 1 with value: 0.9666666666666667.\n",
            "[I 2023-11-08 19:48:38,243] Trial 90 finished with value: 0.9666666666666667 and parameters: {'criterion': 'entropy', 'max_depth': 11, 'n_estimators': 464}. Best is trial 1 with value: 0.9666666666666667.\n",
            "[I 2023-11-08 19:48:39,826] Trial 91 finished with value: 0.9666666666666667 and parameters: {'criterion': 'entropy', 'max_depth': 7, 'n_estimators': 385}. Best is trial 1 with value: 0.9666666666666667.\n",
            "[I 2023-11-08 19:48:42,131] Trial 92 finished with value: 0.9666666666666667 and parameters: {'criterion': 'entropy', 'max_depth': 12, 'n_estimators': 368}. Best is trial 1 with value: 0.9666666666666667.\n",
            "[I 2023-11-08 19:48:44,685] Trial 93 finished with value: 0.9666666666666667 and parameters: {'criterion': 'entropy', 'max_depth': 8, 'n_estimators': 433}. Best is trial 1 with value: 0.9666666666666667.\n",
            "[I 2023-11-08 19:48:46,239] Trial 94 finished with value: 0.9666666666666667 and parameters: {'criterion': 'entropy', 'max_depth': 10, 'n_estimators': 355}. Best is trial 1 with value: 0.9666666666666667.\n",
            "[I 2023-11-08 19:48:48,044] Trial 95 finished with value: 0.96 and parameters: {'criterion': 'entropy', 'max_depth': 19, 'n_estimators': 424}. Best is trial 1 with value: 0.9666666666666667.\n",
            "[I 2023-11-08 19:48:49,109] Trial 96 finished with value: 0.9666666666666667 and parameters: {'criterion': 'gini', 'max_depth': 12, 'n_estimators': 253}. Best is trial 1 with value: 0.9666666666666667.\n",
            "[I 2023-11-08 19:48:50,757] Trial 97 finished with value: 0.9666666666666667 and parameters: {'criterion': 'entropy', 'max_depth': 15, 'n_estimators': 413}. Best is trial 1 with value: 0.9666666666666667.\n",
            "[I 2023-11-08 19:48:51,578] Trial 98 finished with value: 0.96 and parameters: {'criterion': 'entropy', 'max_depth': 5, 'n_estimators': 194}. Best is trial 1 with value: 0.9666666666666667.\n",
            "[I 2023-11-08 19:48:53,362] Trial 99 finished with value: 0.96 and parameters: {'criterion': 'gini', 'max_depth': 8, 'n_estimators': 449}. Best is trial 1 with value: 0.9666666666666667.\n"
          ]
        }
      ]
    },
    {
      "cell_type": "code",
      "source": [
        "trial = study.best_trial\n",
        "trial"
      ],
      "metadata": {
        "colab": {
          "base_uri": "https://localhost:8080/"
        },
        "id": "5M_-JZk7d9Xd",
        "outputId": "432b2491-1192-4354-f9e3-db83e2f14604"
      },
      "execution_count": 7,
      "outputs": [
        {
          "output_type": "execute_result",
          "data": {
            "text/plain": [
              "FrozenTrial(number=1, state=TrialState.COMPLETE, values=[0.9666666666666667], datetime_start=datetime.datetime(2023, 11, 8, 19, 46, 14, 671277), datetime_complete=datetime.datetime(2023, 11, 8, 19, 46, 15, 916243), params={'criterion': 'entropy', 'max_depth': 17, 'n_estimators': 296}, user_attrs={}, system_attrs={}, intermediate_values={}, distributions={'criterion': CategoricalDistribution(choices=('gini', 'entropy')), 'max_depth': IntDistribution(high=32, log=True, low=2, step=1), 'n_estimators': IntDistribution(high=500, log=False, low=100, step=1)}, trial_id=1, value=None)"
            ]
          },
          "metadata": {},
          "execution_count": 7
        }
      ]
    },
    {
      "cell_type": "code",
      "source": [
        "trial.distributions"
      ],
      "metadata": {
        "colab": {
          "base_uri": "https://localhost:8080/"
        },
        "id": "NDCEM1A1e3sL",
        "outputId": "bfcf512f-2412-4d38-ff29-7ddfa0a6b5cd"
      },
      "execution_count": 12,
      "outputs": [
        {
          "output_type": "execute_result",
          "data": {
            "text/plain": [
              "{'criterion': CategoricalDistribution(choices=('gini', 'entropy')),\n",
              " 'max_depth': IntDistribution(high=32, log=True, low=2, step=1),\n",
              " 'n_estimators': IntDistribution(high=500, log=False, low=100, step=1)}"
            ]
          },
          "metadata": {},
          "execution_count": 12
        }
      ]
    },
    {
      "cell_type": "code",
      "source": [
        "print('Accuracy: {}'.format(trial.value))\n",
        "print('Best hyperparameters: {}'.format(trial.params))"
      ],
      "metadata": {
        "colab": {
          "base_uri": "https://localhost:8080/"
        },
        "id": "Z0tvfiAsfCEc",
        "outputId": "be7e809a-af74-4c6f-c457-608f61edd549"
      },
      "execution_count": 13,
      "outputs": [
        {
          "output_type": "stream",
          "name": "stdout",
          "text": [
            "Accuracy: 0.9666666666666667\n",
            "Best hyperparameters: {'criterion': 'entropy', 'max_depth': 17, 'n_estimators': 296}\n"
          ]
        }
      ]
    }
  ]
}